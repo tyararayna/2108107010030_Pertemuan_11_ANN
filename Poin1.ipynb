{
 "cells": [
  {
   "cell_type": "markdown",
   "metadata": {},
   "source": [
    "Pada Poin1.ipynb ini, saya mengimplementasikan kode yang ada pada artikel : https://www.megabagus.id/deep-learning-artificial-neural-networks-aplikasi/ halaman 3. \n",
    "\n",
    "Kode ini membuat suatu model klasifikasi menggunakan tensorflow. "
   ]
  },
  {
   "cell_type": "markdown",
   "metadata": {},
   "source": [
    "## Import Library"
   ]
  },
  {
   "cell_type": "code",
   "execution_count": 7,
   "metadata": {},
   "outputs": [],
   "source": [
    "# Mengimpor library yang diperlukan\n",
    "import numpy as np\n",
    "import matplotlib.pyplot as plt\n",
    "import pandas as pd\n",
    "\n",
    "from sklearn.preprocessing import LabelEncoder, OneHotEncoder\n",
    "from sklearn.compose import ColumnTransformer\n",
    "from sklearn.model_selection import train_test_split\n",
    "from sklearn.preprocessing import StandardScaler\n",
    "from sklearn.metrics import confusion_matrix\n",
    "\n",
    "from tensorflow.keras.models import Sequential\n",
    "from tensorflow.keras.layers import Dense\n"
   ]
  },
  {
   "cell_type": "markdown",
   "metadata": {},
   "source": [
    "## Loading Dataset"
   ]
  },
  {
   "cell_type": "markdown",
   "metadata": {},
   "source": [
    "Dataset yang belum dipreprocessing terletak pada folder data."
   ]
  },
  {
   "cell_type": "code",
   "execution_count": 8,
   "metadata": {},
   "outputs": [],
   "source": [
    "dataset = pd.read_csv('data/Data_bank_churn.csv')\n",
    "X = dataset.iloc[:, 3:13].values\n",
    "y = dataset.iloc[:, 13].values"
   ]
  },
  {
   "cell_type": "markdown",
   "metadata": {},
   "source": [
    "## Preprocessing Data"
   ]
  },
  {
   "cell_type": "markdown",
   "metadata": {},
   "source": [
    "Konversi data yang awalnya kategorik menjadi numerik."
   ]
  },
  {
   "cell_type": "code",
   "execution_count": 9,
   "metadata": {},
   "outputs": [],
   "source": [
    "labelencoder = LabelEncoder()\n",
    "X[:, 2] = labelencoder.fit_transform(X[:, 2])"
   ]
  },
  {
   "cell_type": "markdown",
   "metadata": {},
   "source": [
    "Membuat dummy variable untuk kolom negara."
   ]
  },
  {
   "cell_type": "code",
   "execution_count": 10,
   "metadata": {},
   "outputs": [],
   "source": [
    "columnTransformer = ColumnTransformer([('encoder', OneHotEncoder(), [1])], remainder='passthrough')\n",
    "X = np.array(columnTransformer.fit_transform(X), dtype=float)"
   ]
  },
  {
   "cell_type": "markdown",
   "metadata": {},
   "source": [
    "Menghilangkan 1 dummy variabel di kolom negara."
   ]
  },
  {
   "cell_type": "code",
   "execution_count": 11,
   "metadata": {},
   "outputs": [],
   "source": [
    "X = X[:, 1:]"
   ]
  },
  {
   "cell_type": "markdown",
   "metadata": {},
   "source": [
    "## Splitting Data"
   ]
  },
  {
   "cell_type": "code",
   "execution_count": 12,
   "metadata": {},
   "outputs": [],
   "source": [
    "X_train, X_test, y_train, y_test = train_test_split(X, y, test_size = 0.2, random_state = 0)"
   ]
  },
  {
   "cell_type": "markdown",
   "metadata": {},
   "source": [
    "Melakukan proses feature scaling."
   ]
  },
  {
   "cell_type": "code",
   "execution_count": 13,
   "metadata": {},
   "outputs": [],
   "source": [
    "sc = StandardScaler()\n",
    "X_train = sc.fit_transform(X_train)\n",
    "X_test = sc.transform(X_test)"
   ]
  },
  {
   "cell_type": "markdown",
   "metadata": {},
   "source": [
    "## Build a ANN model"
   ]
  },
  {
   "cell_type": "code",
   "execution_count": 14,
   "metadata": {},
   "outputs": [],
   "source": [
    "# Inisialisasi ANN\n",
    "MesinKlasifikasi = Sequential()\n",
    "# Menambah input layer dan hidden layer pertama\n",
    "MesinKlasifikasi.add(Dense(units = 6, kernel_initializer = 'uniform', activation = 'relu', input_dim = 11))\n",
    "# Menambah hidden layer kedua\n",
    "MesinKlasifikasi.add(Dense(units = 6, kernel_initializer = 'uniform', activation = 'relu'))\n",
    "# Menambah output layer\n",
    "MesinKlasifikasi.add(Dense(units = 1, kernel_initializer = 'uniform', activation = 'sigmoid'))\n"
   ]
  },
  {
   "cell_type": "code",
   "execution_count": 15,
   "metadata": {},
   "outputs": [
    {
     "name": "stdout",
     "output_type": "stream",
     "text": [
      "Epoch 1/100\n",
      "800/800 [==============================] - 4s 3ms/step - loss: 0.4903 - accuracy: 0.7951\n",
      "Epoch 2/100\n",
      "800/800 [==============================] - 3s 3ms/step - loss: 0.4306 - accuracy: 0.7960\n",
      "Epoch 3/100\n",
      "800/800 [==============================] - 3s 3ms/step - loss: 0.4254 - accuracy: 0.7960\n",
      "Epoch 4/100\n",
      "800/800 [==============================] - 3s 3ms/step - loss: 0.4212 - accuracy: 0.8026\n",
      "Epoch 5/100\n",
      "800/800 [==============================] - 3s 3ms/step - loss: 0.4174 - accuracy: 0.8216\n",
      "Epoch 6/100\n",
      "800/800 [==============================] - 3s 3ms/step - loss: 0.4154 - accuracy: 0.8286\n",
      "Epoch 7/100\n",
      "800/800 [==============================] - 3s 3ms/step - loss: 0.4134 - accuracy: 0.8289\n",
      "Epoch 8/100\n",
      "800/800 [==============================] - 3s 4ms/step - loss: 0.4119 - accuracy: 0.8326\n",
      "Epoch 9/100\n",
      "800/800 [==============================] - 3s 4ms/step - loss: 0.4112 - accuracy: 0.8317\n",
      "Epoch 10/100\n",
      "800/800 [==============================] - 3s 4ms/step - loss: 0.4097 - accuracy: 0.8331\n",
      "Epoch 11/100\n",
      "800/800 [==============================] - 2s 3ms/step - loss: 0.4088 - accuracy: 0.8347\n",
      "Epoch 12/100\n",
      "800/800 [==============================] - 3s 4ms/step - loss: 0.4077 - accuracy: 0.8355\n",
      "Epoch 13/100\n",
      "800/800 [==============================] - 3s 4ms/step - loss: 0.4070 - accuracy: 0.8339\n",
      "Epoch 14/100\n",
      "800/800 [==============================] - 3s 4ms/step - loss: 0.4066 - accuracy: 0.8351\n",
      "Epoch 15/100\n",
      "800/800 [==============================] - 3s 4ms/step - loss: 0.4065 - accuracy: 0.8349\n",
      "Epoch 16/100\n",
      "800/800 [==============================] - 3s 4ms/step - loss: 0.4056 - accuracy: 0.8346\n",
      "Epoch 17/100\n",
      "800/800 [==============================] - 3s 3ms/step - loss: 0.4055 - accuracy: 0.8338\n",
      "Epoch 18/100\n",
      "800/800 [==============================] - 3s 3ms/step - loss: 0.4049 - accuracy: 0.8344\n",
      "Epoch 19/100\n",
      "800/800 [==============================] - 3s 3ms/step - loss: 0.4048 - accuracy: 0.8351\n",
      "Epoch 20/100\n",
      "800/800 [==============================] - 3s 3ms/step - loss: 0.4044 - accuracy: 0.8355\n",
      "Epoch 21/100\n",
      "800/800 [==============================] - 3s 3ms/step - loss: 0.4042 - accuracy: 0.8354\n",
      "Epoch 22/100\n",
      "800/800 [==============================] - 3s 3ms/step - loss: 0.4037 - accuracy: 0.8351\n",
      "Epoch 23/100\n",
      "800/800 [==============================] - 3s 3ms/step - loss: 0.4035 - accuracy: 0.8347\n",
      "Epoch 24/100\n",
      "800/800 [==============================] - 3s 3ms/step - loss: 0.4032 - accuracy: 0.8341\n",
      "Epoch 25/100\n",
      "800/800 [==============================] - 3s 3ms/step - loss: 0.4032 - accuracy: 0.8339\n",
      "Epoch 26/100\n",
      "800/800 [==============================] - 2s 2ms/step - loss: 0.4025 - accuracy: 0.8338\n",
      "Epoch 27/100\n",
      "800/800 [==============================] - 2s 2ms/step - loss: 0.4025 - accuracy: 0.8341\n",
      "Epoch 28/100\n",
      "800/800 [==============================] - 2s 3ms/step - loss: 0.4026 - accuracy: 0.8347\n",
      "Epoch 29/100\n",
      "800/800 [==============================] - 2s 3ms/step - loss: 0.4024 - accuracy: 0.8355\n",
      "Epoch 30/100\n",
      "800/800 [==============================] - 2s 3ms/step - loss: 0.4022 - accuracy: 0.8357\n",
      "Epoch 31/100\n",
      "800/800 [==============================] - 2s 3ms/step - loss: 0.4022 - accuracy: 0.8336\n",
      "Epoch 32/100\n",
      "800/800 [==============================] - 2s 3ms/step - loss: 0.4020 - accuracy: 0.8359\n",
      "Epoch 33/100\n",
      "800/800 [==============================] - 2s 3ms/step - loss: 0.4021 - accuracy: 0.8355\n",
      "Epoch 34/100\n",
      "800/800 [==============================] - 2s 3ms/step - loss: 0.4018 - accuracy: 0.8345\n",
      "Epoch 35/100\n",
      "800/800 [==============================] - 2s 3ms/step - loss: 0.4018 - accuracy: 0.8353\n",
      "Epoch 36/100\n",
      "800/800 [==============================] - 2s 3ms/step - loss: 0.4016 - accuracy: 0.8349\n",
      "Epoch 37/100\n",
      "800/800 [==============================] - 3s 3ms/step - loss: 0.4015 - accuracy: 0.8359\n",
      "Epoch 38/100\n",
      "800/800 [==============================] - 3s 4ms/step - loss: 0.4013 - accuracy: 0.8344\n",
      "Epoch 39/100\n",
      "800/800 [==============================] - 3s 3ms/step - loss: 0.4014 - accuracy: 0.8339\n",
      "Epoch 40/100\n",
      "800/800 [==============================] - 3s 3ms/step - loss: 0.4014 - accuracy: 0.8353\n",
      "Epoch 41/100\n",
      "800/800 [==============================] - 3s 3ms/step - loss: 0.4007 - accuracy: 0.8347\n",
      "Epoch 42/100\n",
      "800/800 [==============================] - 2s 3ms/step - loss: 0.4008 - accuracy: 0.8353\n",
      "Epoch 43/100\n",
      "800/800 [==============================] - 3s 3ms/step - loss: 0.4014 - accuracy: 0.8346\n",
      "Epoch 44/100\n",
      "800/800 [==============================] - 2s 3ms/step - loss: 0.4011 - accuracy: 0.8353\n",
      "Epoch 45/100\n",
      "800/800 [==============================] - 2s 3ms/step - loss: 0.4004 - accuracy: 0.8365\n",
      "Epoch 46/100\n",
      "800/800 [==============================] - 2s 3ms/step - loss: 0.4009 - accuracy: 0.8354\n",
      "Epoch 47/100\n",
      "800/800 [==============================] - 2s 3ms/step - loss: 0.4004 - accuracy: 0.8345\n",
      "Epoch 48/100\n",
      "800/800 [==============================] - 2s 3ms/step - loss: 0.4007 - accuracy: 0.8367\n",
      "Epoch 49/100\n",
      "800/800 [==============================] - 2s 3ms/step - loss: 0.4007 - accuracy: 0.8346\n",
      "Epoch 50/100\n",
      "800/800 [==============================] - 2s 3ms/step - loss: 0.4007 - accuracy: 0.8361\n",
      "Epoch 51/100\n",
      "800/800 [==============================] - 2s 3ms/step - loss: 0.4005 - accuracy: 0.8349\n",
      "Epoch 52/100\n",
      "800/800 [==============================] - 2s 3ms/step - loss: 0.4006 - accuracy: 0.8351\n",
      "Epoch 53/100\n",
      "800/800 [==============================] - 2s 3ms/step - loss: 0.4007 - accuracy: 0.8380\n",
      "Epoch 54/100\n",
      "800/800 [==============================] - 2s 3ms/step - loss: 0.4004 - accuracy: 0.8355\n",
      "Epoch 55/100\n",
      "800/800 [==============================] - 2s 3ms/step - loss: 0.4007 - accuracy: 0.8371\n",
      "Epoch 56/100\n",
      "800/800 [==============================] - 2s 3ms/step - loss: 0.4001 - accuracy: 0.8366\n",
      "Epoch 57/100\n",
      "800/800 [==============================] - 2s 3ms/step - loss: 0.4007 - accuracy: 0.8369\n",
      "Epoch 58/100\n",
      "800/800 [==============================] - 2s 3ms/step - loss: 0.4004 - accuracy: 0.8356\n",
      "Epoch 59/100\n",
      "800/800 [==============================] - 2s 3ms/step - loss: 0.4004 - accuracy: 0.8355\n",
      "Epoch 60/100\n",
      "800/800 [==============================] - 2s 3ms/step - loss: 0.4005 - accuracy: 0.8351\n",
      "Epoch 61/100\n",
      "800/800 [==============================] - 2s 3ms/step - loss: 0.4005 - accuracy: 0.8361\n",
      "Epoch 62/100\n",
      "800/800 [==============================] - 2s 3ms/step - loss: 0.3997 - accuracy: 0.8359\n",
      "Epoch 63/100\n",
      "800/800 [==============================] - 2s 3ms/step - loss: 0.3997 - accuracy: 0.8353\n",
      "Epoch 64/100\n",
      "800/800 [==============================] - 2s 3ms/step - loss: 0.4003 - accuracy: 0.8357\n",
      "Epoch 65/100\n",
      "800/800 [==============================] - 2s 3ms/step - loss: 0.4002 - accuracy: 0.8356\n",
      "Epoch 66/100\n",
      "800/800 [==============================] - 2s 3ms/step - loss: 0.3999 - accuracy: 0.8363\n",
      "Epoch 67/100\n",
      "800/800 [==============================] - 2s 3ms/step - loss: 0.4000 - accuracy: 0.8361\n",
      "Epoch 68/100\n",
      "800/800 [==============================] - 2s 3ms/step - loss: 0.4001 - accuracy: 0.8367\n",
      "Epoch 69/100\n",
      "800/800 [==============================] - 2s 3ms/step - loss: 0.4000 - accuracy: 0.8365\n",
      "Epoch 70/100\n",
      "800/800 [==============================] - 2s 3ms/step - loss: 0.4002 - accuracy: 0.8359\n",
      "Epoch 71/100\n",
      "800/800 [==============================] - 2s 3ms/step - loss: 0.4003 - accuracy: 0.8357\n",
      "Epoch 72/100\n",
      "800/800 [==============================] - 2s 3ms/step - loss: 0.3998 - accuracy: 0.8367\n",
      "Epoch 73/100\n",
      "800/800 [==============================] - 2s 3ms/step - loss: 0.4002 - accuracy: 0.8359\n",
      "Epoch 74/100\n",
      "800/800 [==============================] - 2s 3ms/step - loss: 0.3996 - accuracy: 0.8354\n",
      "Epoch 75/100\n",
      "800/800 [==============================] - 2s 3ms/step - loss: 0.3999 - accuracy: 0.8354\n",
      "Epoch 76/100\n",
      "800/800 [==============================] - 2s 3ms/step - loss: 0.4001 - accuracy: 0.8346\n",
      "Epoch 77/100\n",
      "800/800 [==============================] - 2s 3ms/step - loss: 0.3995 - accuracy: 0.8350\n",
      "Epoch 78/100\n",
      "800/800 [==============================] - 3s 3ms/step - loss: 0.4001 - accuracy: 0.8351\n",
      "Epoch 79/100\n",
      "800/800 [==============================] - 2s 3ms/step - loss: 0.3998 - accuracy: 0.8364\n",
      "Epoch 80/100\n",
      "800/800 [==============================] - 2s 3ms/step - loss: 0.3999 - accuracy: 0.8360\n",
      "Epoch 81/100\n",
      "800/800 [==============================] - 2s 3ms/step - loss: 0.4000 - accuracy: 0.8338\n",
      "Epoch 82/100\n",
      "800/800 [==============================] - 2s 3ms/step - loss: 0.3998 - accuracy: 0.8363\n",
      "Epoch 83/100\n",
      "800/800 [==============================] - 2s 3ms/step - loss: 0.3998 - accuracy: 0.8361\n",
      "Epoch 84/100\n",
      "800/800 [==============================] - 2s 3ms/step - loss: 0.3994 - accuracy: 0.8347\n",
      "Epoch 85/100\n",
      "800/800 [==============================] - 2s 3ms/step - loss: 0.4002 - accuracy: 0.8357\n",
      "Epoch 86/100\n",
      "800/800 [==============================] - 2s 3ms/step - loss: 0.4000 - accuracy: 0.8359\n",
      "Epoch 87/100\n",
      "800/800 [==============================] - 2s 3ms/step - loss: 0.4000 - accuracy: 0.8367\n",
      "Epoch 88/100\n",
      "800/800 [==============================] - 2s 3ms/step - loss: 0.3999 - accuracy: 0.8372\n",
      "Epoch 89/100\n",
      "800/800 [==============================] - 2s 3ms/step - loss: 0.3994 - accuracy: 0.8355\n",
      "Epoch 90/100\n",
      "800/800 [==============================] - 2s 3ms/step - loss: 0.3998 - accuracy: 0.8372\n",
      "Epoch 91/100\n",
      "800/800 [==============================] - 2s 3ms/step - loss: 0.3996 - accuracy: 0.8353\n",
      "Epoch 92/100\n",
      "800/800 [==============================] - 2s 3ms/step - loss: 0.3993 - accuracy: 0.8357\n",
      "Epoch 93/100\n",
      "800/800 [==============================] - 2s 3ms/step - loss: 0.3997 - accuracy: 0.8354\n",
      "Epoch 94/100\n",
      "800/800 [==============================] - 2s 3ms/step - loss: 0.4001 - accuracy: 0.8364\n",
      "Epoch 95/100\n",
      "800/800 [==============================] - 2s 3ms/step - loss: 0.3997 - accuracy: 0.8361\n",
      "Epoch 96/100\n",
      "800/800 [==============================] - 2s 3ms/step - loss: 0.3997 - accuracy: 0.8381\n",
      "Epoch 97/100\n",
      "800/800 [==============================] - 2s 3ms/step - loss: 0.3996 - accuracy: 0.8361\n",
      "Epoch 98/100\n",
      "800/800 [==============================] - 2s 3ms/step - loss: 0.3994 - accuracy: 0.8364\n",
      "Epoch 99/100\n",
      "800/800 [==============================] - 2s 3ms/step - loss: 0.3998 - accuracy: 0.8355\n",
      "Epoch 100/100\n",
      "800/800 [==============================] - 2s 3ms/step - loss: 0.3999 - accuracy: 0.8359\n"
     ]
    },
    {
     "data": {
      "text/plain": [
       "<keras.src.callbacks.History at 0x1e86bf8a990>"
      ]
     },
     "execution_count": 15,
     "metadata": {},
     "output_type": "execute_result"
    }
   ],
   "source": [
    "# Meenjalankan ANN\n",
    "MesinKlasifikasi.compile(optimizer = 'adam', loss = 'binary_crossentropy', metrics = ['accuracy'])\n",
    "# Fitting ANN ke training set\n",
    "MesinKlasifikasi.fit(X_train, y_train, batch_size = 10, epochs = 100)\n"
   ]
  },
  {
   "cell_type": "code",
   "execution_count": 21,
   "metadata": {},
   "outputs": [
    {
     "name": "stdout",
     "output_type": "stream",
     "text": [
      "63/63 [==============================] - 0s 3ms/step\n"
     ]
    },
    {
     "data": {
      "text/plain": [
       "array([[False],\n",
       "       [False],\n",
       "       [False],\n",
       "       ...,\n",
       "       [False],\n",
       "       [False],\n",
       "       [False]])"
      ]
     },
     "execution_count": 21,
     "metadata": {},
     "output_type": "execute_result"
    }
   ],
   "source": [
    "# Memprediksi hasil test set\n",
    "y_pred = MesinKlasifikasi.predict(X_test)\n",
    "y_pred = (y_pred > 0.5)\n",
    "y_pred\n"
   ]
  },
  {
   "cell_type": "code",
   "execution_count": 20,
   "metadata": {},
   "outputs": [
    {
     "data": {
      "text/plain": [
       "array([[1552,   43],\n",
       "       [ 272,  133]], dtype=int64)"
      ]
     },
     "execution_count": 20,
     "metadata": {},
     "output_type": "execute_result"
    }
   ],
   "source": [
    "# Membuat confusion matrix\n",
    "cm = confusion_matrix(y_test, y_pred)\n",
    "cm"
   ]
  }
 ],
 "metadata": {
  "kernelspec": {
   "display_name": "Python 3",
   "language": "python",
   "name": "python3"
  },
  "language_info": {
   "codemirror_mode": {
    "name": "ipython",
    "version": 3
   },
   "file_extension": ".py",
   "mimetype": "text/x-python",
   "name": "python",
   "nbconvert_exporter": "python",
   "pygments_lexer": "ipython3",
   "version": "3.11.1"
  }
 },
 "nbformat": 4,
 "nbformat_minor": 2
}
